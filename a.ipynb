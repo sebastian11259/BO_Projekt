{
 "cells": [
  {
   "cell_type": "code",
   "execution_count": 3,
   "outputs": [
    {
     "name": "stdout",
     "output_type": "stream",
     "text": [
      "['1', '2', '3', '4']\n",
      "['Anna Pol', 'Adam Mat', 'Ewa Ang', 'Jerzy Rel']\n",
      "['1a', '1b', '2a', '2b']\n"
     ]
    }
   ],
   "source": [
    "import structures\n",
    "import pandas as pd\n",
    "import os\n",
    "import numpy as np\n",
    "\n",
    "\n",
    "Ttable = structures.TimeTable()\n",
    "Ttable.load_years()\n",
    "\n",
    "print(Ttable.all_classes())\n",
    "print(Ttable.all_teachers())\n",
    "print(Ttable.all_years())\n",
    "\n",
    "Ttable.initial_2()\n",
    "t = Ttable.get_tables()"
   ],
   "metadata": {
    "collapsed": false,
    "pycharm": {
     "name": "#%%\n"
    }
   }
  },
  {
   "cell_type": "code",
   "execution_count": 4,
   "outputs": [
    {
     "data": {
      "text/plain": "                         Day 1                        Day 2  \\\n0  Pol 1a, Anna Pol, Sala nr 1  Pol 1a, Anna Pol, Sala nr 1   \n1  Pol 1a, Anna Pol, Sala nr 1  Mat 1a, Adam Mat, Sala nr 2   \n2  Pol 1a, Anna Pol, Sala nr 1  Mat 1a, Adam Mat, Sala nr 2   \n3  Pol 1a, Anna Pol, Sala nr 1  Mat 1a, Adam Mat, Sala nr 2   \n4  Pol 1a, Anna Pol, Sala nr 1  Mat 1a, Adam Mat, Sala nr 2   \n5  Pol 1a, Anna Pol, Sala nr 1  Mat 1a, Adam Mat, Sala nr 2   \n\n                          Day 3 Day 4 Day 5  \n0   Mat 1a, Adam Mat, Sala nr 2  None  None  \n1   Mat 1a, Adam Mat, Sala nr 2  None  None  \n2    Ang 1a, Ewa Ang, Sala nr 3  None  None  \n3    Ang 1a, Ewa Ang, Sala nr 3  None  None  \n4  Rel 1a, Jerzy Rel, Sala nr 3  None  None  \n5  Rel 1a, Jerzy Rel, Sala nr 3  None  None  ",
      "text/html": "<div>\n<style scoped>\n    .dataframe tbody tr th:only-of-type {\n        vertical-align: middle;\n    }\n\n    .dataframe tbody tr th {\n        vertical-align: top;\n    }\n\n    .dataframe thead th {\n        text-align: right;\n    }\n</style>\n<table border=\"1\" class=\"dataframe\">\n  <thead>\n    <tr style=\"text-align: right;\">\n      <th></th>\n      <th>Day 1</th>\n      <th>Day 2</th>\n      <th>Day 3</th>\n      <th>Day 4</th>\n      <th>Day 5</th>\n    </tr>\n  </thead>\n  <tbody>\n    <tr>\n      <th>0</th>\n      <td>Pol 1a, Anna Pol, Sala nr 1</td>\n      <td>Pol 1a, Anna Pol, Sala nr 1</td>\n      <td>Mat 1a, Adam Mat, Sala nr 2</td>\n      <td>None</td>\n      <td>None</td>\n    </tr>\n    <tr>\n      <th>1</th>\n      <td>Pol 1a, Anna Pol, Sala nr 1</td>\n      <td>Mat 1a, Adam Mat, Sala nr 2</td>\n      <td>Mat 1a, Adam Mat, Sala nr 2</td>\n      <td>None</td>\n      <td>None</td>\n    </tr>\n    <tr>\n      <th>2</th>\n      <td>Pol 1a, Anna Pol, Sala nr 1</td>\n      <td>Mat 1a, Adam Mat, Sala nr 2</td>\n      <td>Ang 1a, Ewa Ang, Sala nr 3</td>\n      <td>None</td>\n      <td>None</td>\n    </tr>\n    <tr>\n      <th>3</th>\n      <td>Pol 1a, Anna Pol, Sala nr 1</td>\n      <td>Mat 1a, Adam Mat, Sala nr 2</td>\n      <td>Ang 1a, Ewa Ang, Sala nr 3</td>\n      <td>None</td>\n      <td>None</td>\n    </tr>\n    <tr>\n      <th>4</th>\n      <td>Pol 1a, Anna Pol, Sala nr 1</td>\n      <td>Mat 1a, Adam Mat, Sala nr 2</td>\n      <td>Rel 1a, Jerzy Rel, Sala nr 3</td>\n      <td>None</td>\n      <td>None</td>\n    </tr>\n    <tr>\n      <th>5</th>\n      <td>Pol 1a, Anna Pol, Sala nr 1</td>\n      <td>Mat 1a, Adam Mat, Sala nr 2</td>\n      <td>Rel 1a, Jerzy Rel, Sala nr 3</td>\n      <td>None</td>\n      <td>None</td>\n    </tr>\n  </tbody>\n</table>\n</div>"
     },
     "execution_count": 4,
     "metadata": {},
     "output_type": "execute_result"
    }
   ],
   "source": [
    "t[0]"
   ],
   "metadata": {
    "collapsed": false,
    "pycharm": {
     "name": "#%%\n"
    }
   }
  },
  {
   "cell_type": "code",
   "execution_count": 5,
   "outputs": [
    {
     "data": {
      "text/plain": "                         Day 1                        Day 2  \\\n0  Mat 1b, Adam Mat, Sala nr 2  Mat 1b, Adam Mat, Sala nr 2   \n1  Mat 1b, Adam Mat, Sala nr 2  Pol 1b, Anna Pol, Sala nr 1   \n2  Mat 1b, Adam Mat, Sala nr 2  Pol 1b, Anna Pol, Sala nr 1   \n3  Mat 1b, Adam Mat, Sala nr 2  Pol 1b, Anna Pol, Sala nr 1   \n4  Mat 1b, Adam Mat, Sala nr 2  Pol 1b, Anna Pol, Sala nr 1   \n5  Mat 1b, Adam Mat, Sala nr 2  Pol 1b, Anna Pol, Sala nr 1   \n\n                          Day 3 Day 4 Day 5  \n0   Pol 1b, Anna Pol, Sala nr 1  None  None  \n1   Pol 1b, Anna Pol, Sala nr 1  None  None  \n2  Rel 1b, Jerzy Rel, Sala nr 4  None  None  \n3  Rel 1b, Jerzy Rel, Sala nr 4  None  None  \n4    Ang 1b, Ewa Ang, Sala nr 4  None  None  \n5    Ang 1b, Ewa Ang, Sala nr 4  None  None  ",
      "text/html": "<div>\n<style scoped>\n    .dataframe tbody tr th:only-of-type {\n        vertical-align: middle;\n    }\n\n    .dataframe tbody tr th {\n        vertical-align: top;\n    }\n\n    .dataframe thead th {\n        text-align: right;\n    }\n</style>\n<table border=\"1\" class=\"dataframe\">\n  <thead>\n    <tr style=\"text-align: right;\">\n      <th></th>\n      <th>Day 1</th>\n      <th>Day 2</th>\n      <th>Day 3</th>\n      <th>Day 4</th>\n      <th>Day 5</th>\n    </tr>\n  </thead>\n  <tbody>\n    <tr>\n      <th>0</th>\n      <td>Mat 1b, Adam Mat, Sala nr 2</td>\n      <td>Mat 1b, Adam Mat, Sala nr 2</td>\n      <td>Pol 1b, Anna Pol, Sala nr 1</td>\n      <td>None</td>\n      <td>None</td>\n    </tr>\n    <tr>\n      <th>1</th>\n      <td>Mat 1b, Adam Mat, Sala nr 2</td>\n      <td>Pol 1b, Anna Pol, Sala nr 1</td>\n      <td>Pol 1b, Anna Pol, Sala nr 1</td>\n      <td>None</td>\n      <td>None</td>\n    </tr>\n    <tr>\n      <th>2</th>\n      <td>Mat 1b, Adam Mat, Sala nr 2</td>\n      <td>Pol 1b, Anna Pol, Sala nr 1</td>\n      <td>Rel 1b, Jerzy Rel, Sala nr 4</td>\n      <td>None</td>\n      <td>None</td>\n    </tr>\n    <tr>\n      <th>3</th>\n      <td>Mat 1b, Adam Mat, Sala nr 2</td>\n      <td>Pol 1b, Anna Pol, Sala nr 1</td>\n      <td>Rel 1b, Jerzy Rel, Sala nr 4</td>\n      <td>None</td>\n      <td>None</td>\n    </tr>\n    <tr>\n      <th>4</th>\n      <td>Mat 1b, Adam Mat, Sala nr 2</td>\n      <td>Pol 1b, Anna Pol, Sala nr 1</td>\n      <td>Ang 1b, Ewa Ang, Sala nr 4</td>\n      <td>None</td>\n      <td>None</td>\n    </tr>\n    <tr>\n      <th>5</th>\n      <td>Mat 1b, Adam Mat, Sala nr 2</td>\n      <td>Pol 1b, Anna Pol, Sala nr 1</td>\n      <td>Ang 1b, Ewa Ang, Sala nr 4</td>\n      <td>None</td>\n      <td>None</td>\n    </tr>\n  </tbody>\n</table>\n</div>"
     },
     "execution_count": 5,
     "metadata": {},
     "output_type": "execute_result"
    }
   ],
   "source": [
    "t[1]"
   ],
   "metadata": {
    "collapsed": false,
    "pycharm": {
     "name": "#%%\n"
    }
   }
  },
  {
   "cell_type": "code",
   "execution_count": 6,
   "outputs": [
    {
     "data": {
      "text/plain": "                          Day 1 Day 2                        Day 3  \\\n0    Ang 2a, Ewa Ang, Sala nr 3  None                         None   \n1    Ang 2a, Ewa Ang, Sala nr 3  None                         None   \n2  Rel 2a, Jerzy Rel, Sala nr 3  None  Pol 2a, Anna Pol, Sala nr 1   \n3  Rel 2a, Jerzy Rel, Sala nr 3  None  Pol 2a, Anna Pol, Sala nr 1   \n4                          None  None  Pol 2a, Anna Pol, Sala nr 1   \n5                          None  None  Pol 2a, Anna Pol, Sala nr 1   \n\n                         Day 4                        Day 5  \n0  Pol 2a, Anna Pol, Sala nr 1  Mat 2a, Adam Mat, Sala nr 2  \n1  Pol 2a, Anna Pol, Sala nr 1  Mat 2a, Adam Mat, Sala nr 2  \n2  Pol 2a, Anna Pol, Sala nr 1  Mat 2a, Adam Mat, Sala nr 2  \n3  Pol 2a, Anna Pol, Sala nr 1  Mat 2a, Adam Mat, Sala nr 2  \n4  Mat 2a, Adam Mat, Sala nr 2  Mat 2a, Adam Mat, Sala nr 2  \n5  Mat 2a, Adam Mat, Sala nr 2  Mat 2a, Adam Mat, Sala nr 2  ",
      "text/html": "<div>\n<style scoped>\n    .dataframe tbody tr th:only-of-type {\n        vertical-align: middle;\n    }\n\n    .dataframe tbody tr th {\n        vertical-align: top;\n    }\n\n    .dataframe thead th {\n        text-align: right;\n    }\n</style>\n<table border=\"1\" class=\"dataframe\">\n  <thead>\n    <tr style=\"text-align: right;\">\n      <th></th>\n      <th>Day 1</th>\n      <th>Day 2</th>\n      <th>Day 3</th>\n      <th>Day 4</th>\n      <th>Day 5</th>\n    </tr>\n  </thead>\n  <tbody>\n    <tr>\n      <th>0</th>\n      <td>Ang 2a, Ewa Ang, Sala nr 3</td>\n      <td>None</td>\n      <td>None</td>\n      <td>Pol 2a, Anna Pol, Sala nr 1</td>\n      <td>Mat 2a, Adam Mat, Sala nr 2</td>\n    </tr>\n    <tr>\n      <th>1</th>\n      <td>Ang 2a, Ewa Ang, Sala nr 3</td>\n      <td>None</td>\n      <td>None</td>\n      <td>Pol 2a, Anna Pol, Sala nr 1</td>\n      <td>Mat 2a, Adam Mat, Sala nr 2</td>\n    </tr>\n    <tr>\n      <th>2</th>\n      <td>Rel 2a, Jerzy Rel, Sala nr 3</td>\n      <td>None</td>\n      <td>Pol 2a, Anna Pol, Sala nr 1</td>\n      <td>Pol 2a, Anna Pol, Sala nr 1</td>\n      <td>Mat 2a, Adam Mat, Sala nr 2</td>\n    </tr>\n    <tr>\n      <th>3</th>\n      <td>Rel 2a, Jerzy Rel, Sala nr 3</td>\n      <td>None</td>\n      <td>Pol 2a, Anna Pol, Sala nr 1</td>\n      <td>Pol 2a, Anna Pol, Sala nr 1</td>\n      <td>Mat 2a, Adam Mat, Sala nr 2</td>\n    </tr>\n    <tr>\n      <th>4</th>\n      <td>None</td>\n      <td>None</td>\n      <td>Pol 2a, Anna Pol, Sala nr 1</td>\n      <td>Mat 2a, Adam Mat, Sala nr 2</td>\n      <td>Mat 2a, Adam Mat, Sala nr 2</td>\n    </tr>\n    <tr>\n      <th>5</th>\n      <td>None</td>\n      <td>None</td>\n      <td>Pol 2a, Anna Pol, Sala nr 1</td>\n      <td>Mat 2a, Adam Mat, Sala nr 2</td>\n      <td>Mat 2a, Adam Mat, Sala nr 2</td>\n    </tr>\n  </tbody>\n</table>\n</div>"
     },
     "execution_count": 6,
     "metadata": {},
     "output_type": "execute_result"
    }
   ],
   "source": [
    "t[2]"
   ],
   "metadata": {
    "collapsed": false,
    "pycharm": {
     "name": "#%%\n"
    }
   }
  },
  {
   "cell_type": "code",
   "execution_count": 7,
   "outputs": [
    {
     "data": {
      "text/plain": "                          Day 1 Day 2                        Day 3  \\\n0  Rel 2b, Jerzy Rel, Sala nr 4  None                         None   \n1  Rel 2b, Jerzy Rel, Sala nr 4  None                         None   \n2    Ang 2b, Ewa Ang, Sala nr 4  None  Mat 2b, Adam Mat, Sala nr 2   \n3    Ang 2b, Ewa Ang, Sala nr 4  None  Mat 2b, Adam Mat, Sala nr 2   \n4                          None  None  Mat 2b, Adam Mat, Sala nr 2   \n5                          None  None  Mat 2b, Adam Mat, Sala nr 2   \n\n                         Day 4                        Day 5  \n0  Mat 2b, Adam Mat, Sala nr 2  Pol 2b, Anna Pol, Sala nr 1  \n1  Mat 2b, Adam Mat, Sala nr 2  Pol 2b, Anna Pol, Sala nr 1  \n2  Mat 2b, Adam Mat, Sala nr 2  Pol 2b, Anna Pol, Sala nr 1  \n3  Mat 2b, Adam Mat, Sala nr 2  Pol 2b, Anna Pol, Sala nr 1  \n4  Pol 2b, Anna Pol, Sala nr 1  Pol 2b, Anna Pol, Sala nr 1  \n5  Pol 2b, Anna Pol, Sala nr 1  Pol 2b, Anna Pol, Sala nr 1  ",
      "text/html": "<div>\n<style scoped>\n    .dataframe tbody tr th:only-of-type {\n        vertical-align: middle;\n    }\n\n    .dataframe tbody tr th {\n        vertical-align: top;\n    }\n\n    .dataframe thead th {\n        text-align: right;\n    }\n</style>\n<table border=\"1\" class=\"dataframe\">\n  <thead>\n    <tr style=\"text-align: right;\">\n      <th></th>\n      <th>Day 1</th>\n      <th>Day 2</th>\n      <th>Day 3</th>\n      <th>Day 4</th>\n      <th>Day 5</th>\n    </tr>\n  </thead>\n  <tbody>\n    <tr>\n      <th>0</th>\n      <td>Rel 2b, Jerzy Rel, Sala nr 4</td>\n      <td>None</td>\n      <td>None</td>\n      <td>Mat 2b, Adam Mat, Sala nr 2</td>\n      <td>Pol 2b, Anna Pol, Sala nr 1</td>\n    </tr>\n    <tr>\n      <th>1</th>\n      <td>Rel 2b, Jerzy Rel, Sala nr 4</td>\n      <td>None</td>\n      <td>None</td>\n      <td>Mat 2b, Adam Mat, Sala nr 2</td>\n      <td>Pol 2b, Anna Pol, Sala nr 1</td>\n    </tr>\n    <tr>\n      <th>2</th>\n      <td>Ang 2b, Ewa Ang, Sala nr 4</td>\n      <td>None</td>\n      <td>Mat 2b, Adam Mat, Sala nr 2</td>\n      <td>Mat 2b, Adam Mat, Sala nr 2</td>\n      <td>Pol 2b, Anna Pol, Sala nr 1</td>\n    </tr>\n    <tr>\n      <th>3</th>\n      <td>Ang 2b, Ewa Ang, Sala nr 4</td>\n      <td>None</td>\n      <td>Mat 2b, Adam Mat, Sala nr 2</td>\n      <td>Mat 2b, Adam Mat, Sala nr 2</td>\n      <td>Pol 2b, Anna Pol, Sala nr 1</td>\n    </tr>\n    <tr>\n      <th>4</th>\n      <td>None</td>\n      <td>None</td>\n      <td>Mat 2b, Adam Mat, Sala nr 2</td>\n      <td>Pol 2b, Anna Pol, Sala nr 1</td>\n      <td>Pol 2b, Anna Pol, Sala nr 1</td>\n    </tr>\n    <tr>\n      <th>5</th>\n      <td>None</td>\n      <td>None</td>\n      <td>Mat 2b, Adam Mat, Sala nr 2</td>\n      <td>Pol 2b, Anna Pol, Sala nr 1</td>\n      <td>Pol 2b, Anna Pol, Sala nr 1</td>\n    </tr>\n  </tbody>\n</table>\n</div>"
     },
     "execution_count": 7,
     "metadata": {},
     "output_type": "execute_result"
    }
   ],
   "source": [
    "t[3]"
   ],
   "metadata": {
    "collapsed": false,
    "pycharm": {
     "name": "#%%\n"
    }
   }
  }
 ],
 "metadata": {
  "kernelspec": {
   "display_name": "Python 3",
   "language": "python",
   "name": "python3"
  },
  "language_info": {
   "codemirror_mode": {
    "name": "ipython",
    "version": 2
   },
   "file_extension": ".py",
   "mimetype": "text/x-python",
   "name": "python",
   "nbconvert_exporter": "python",
   "pygments_lexer": "ipython2",
   "version": "2.7.6"
  }
 },
 "nbformat": 4,
 "nbformat_minor": 0
}