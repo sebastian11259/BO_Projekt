{
 "cells": [
  {
   "cell_type": "code",
   "execution_count": 1,
   "outputs": [
    {
     "ename": "TypeError",
     "evalue": "__init__() missing 2 required positional arguments: 'teach_dir' and 'class_dir'",
     "output_type": "error",
     "traceback": [
      "\u001B[1;31m---------------------------------------------------------------------------\u001B[0m",
      "\u001B[1;31mTypeError\u001B[0m                                 Traceback (most recent call last)",
      "Input \u001B[1;32mIn [1]\u001B[0m, in \u001B[0;36m<cell line: 10>\u001B[1;34m()\u001B[0m\n\u001B[0;32m      6\u001B[0m \u001B[38;5;28;01mimport\u001B[39;00m \u001B[38;5;21;01mcopy\u001B[39;00m\n\u001B[0;32m      7\u001B[0m \u001B[38;5;28;01mimport\u001B[39;00m \u001B[38;5;21;01mmatplotlib\u001B[39;00m\u001B[38;5;21;01m.\u001B[39;00m\u001B[38;5;21;01mpyplot\u001B[39;00m \u001B[38;5;28;01mas\u001B[39;00m \u001B[38;5;21;01mplt\u001B[39;00m\n\u001B[1;32m---> 10\u001B[0m Ttable \u001B[38;5;241m=\u001B[39m \u001B[43mstructures\u001B[49m\u001B[38;5;241;43m.\u001B[39;49m\u001B[43mTimeTable\u001B[49m\u001B[43m(\u001B[49m\u001B[43m)\u001B[49m\n\u001B[0;32m     11\u001B[0m Ttable\u001B[38;5;241m.\u001B[39mload_years()\n\u001B[0;32m     13\u001B[0m \u001B[38;5;28mprint\u001B[39m(Ttable\u001B[38;5;241m.\u001B[39mall_classes())\n",
      "\u001B[1;31mTypeError\u001B[0m: __init__() missing 2 required positional arguments: 'teach_dir' and 'class_dir'"
     ]
    }
   ],
   "source": [
    "import structures\n",
    "import SA_algorithm as alg\n",
    "import pandas as pd\n",
    "import os\n",
    "import numpy as np\n",
    "import copy\n",
    "import matplotlib.pyplot as plt\n",
    "\n",
    "\n",
    "Ttable = structures.TimeTable()\n",
    "Ttable.load_years()\n",
    "\n",
    "print(Ttable.all_classes())\n",
    "print(Ttable.all_teachers())\n",
    "print(Ttable.all_years())\n",
    "\n",
    "temp = 10000000\n",
    "alpha = 0.9\n",
    "eps = 0.01\n",
    "k = 5\n",
    "neigh = [1]\n",
    "weights = [100, 10, 100, 10, 10]\n",
    "\n",
    "# Ttable.initial_2()\n",
    "# t = Ttable.get_tables()"
   ],
   "metadata": {
    "collapsed": false,
    "pycharm": {
     "name": "#%%\n"
    }
   }
  },
  {
   "cell_type": "code",
   "execution_count": null,
   "outputs": [],
   "source": [
    "res, obj_fun, obj_fun_curr, obj_end = alg.sa_algorithm(temp, alpha, eps, k, Ttable, 2, neigh, weights)"
   ],
   "metadata": {
    "collapsed": false,
    "pycharm": {
     "name": "#%%\n"
    }
   }
  },
  {
   "cell_type": "code",
   "execution_count": null,
   "outputs": [],
   "source": [
    "t = res.get_tables()"
   ],
   "metadata": {
    "collapsed": false,
    "pycharm": {
     "name": "#%%\n"
    }
   }
  },
  {
   "cell_type": "code",
   "execution_count": null,
   "outputs": [],
   "source": [
    "t[0]"
   ],
   "metadata": {
    "collapsed": false,
    "pycharm": {
     "name": "#%%\n"
    }
   }
  },
  {
   "cell_type": "code",
   "execution_count": null,
   "outputs": [],
   "source": [
    "t[1]"
   ],
   "metadata": {
    "collapsed": false,
    "pycharm": {
     "name": "#%%\n"
    }
   }
  },
  {
   "cell_type": "code",
   "execution_count": null,
   "outputs": [],
   "source": [
    "t[2]"
   ],
   "metadata": {
    "collapsed": false,
    "pycharm": {
     "name": "#%%\n"
    }
   }
  },
  {
   "cell_type": "code",
   "execution_count": null,
   "outputs": [],
   "source": [
    "t[3]"
   ],
   "metadata": {
    "collapsed": false,
    "pycharm": {
     "name": "#%%\n"
    }
   }
  },
  {
   "cell_type": "code",
   "execution_count": null,
   "outputs": [],
   "source": [
    "# plt.plot(obj_fun)\n",
    "plt.plot(obj_fun_curr)\n",
    "plt.plot(obj_end)\n",
    "plt.grid()\n",
    "plt.title(\"Funkcja celu\")\n",
    "plt.legend([\"New\", \"End\"])\n",
    "plt.show()"
   ],
   "metadata": {
    "collapsed": false,
    "pycharm": {
     "name": "#%%\n"
    }
   }
  },
  {
   "cell_type": "code",
   "execution_count": 54,
   "outputs": [
    {
     "data": {
      "text/plain": "                            Day 1                         Day 2  \\\n0    Rel 2a, Jerzy Rel, Sala nr 4   Mat 2a, Adam Mat, Sala nr 2   \n1         Mat 2a, None, Sala nr 2   Mat 2a, Adam Mat, Sala nr 2   \n2      Pol 2a, None, Sala nr None  Rel 2a, Jerzy Rel, Sala nr 3   \n3      Pol 2a, None, Sala nr None    Pol 2a, None, Sala nr None   \n4  Pol 2a, Anna Pol, Sala nr None    Ang 2a, Ewa Ang, Sala nr 4   \n5     Pol 2a, Anna Pol, Sala nr 1                          None   \n\n                            Day 3                        Day 4  \\\n0      Mat 2a, None, Sala nr None  Mat 2a, Adam Mat, Sala nr 2   \n1  Pol 2a, Anna Pol, Sala nr None                         None   \n2                            None                         None   \n3                            None                         None   \n4                            None                         None   \n5                            None                         None   \n\n                         Day 5  \n0   Mat 2a, None, Sala nr None  \n1  Mat 2a, Adam Mat, Sala nr 2  \n2  Pol 2a, Anna Pol, Sala nr 1  \n3  Pol 2a, Anna Pol, Sala nr 1  \n4      Ang 2a, None, Sala nr 4  \n5  Mat 2a, Adam Mat, Sala nr 2  ",
      "text/html": "<div>\n<style scoped>\n    .dataframe tbody tr th:only-of-type {\n        vertical-align: middle;\n    }\n\n    .dataframe tbody tr th {\n        vertical-align: top;\n    }\n\n    .dataframe thead th {\n        text-align: right;\n    }\n</style>\n<table border=\"1\" class=\"dataframe\">\n  <thead>\n    <tr style=\"text-align: right;\">\n      <th></th>\n      <th>Day 1</th>\n      <th>Day 2</th>\n      <th>Day 3</th>\n      <th>Day 4</th>\n      <th>Day 5</th>\n    </tr>\n  </thead>\n  <tbody>\n    <tr>\n      <th>0</th>\n      <td>Rel 2a, Jerzy Rel, Sala nr 4</td>\n      <td>Mat 2a, Adam Mat, Sala nr 2</td>\n      <td>Mat 2a, None, Sala nr None</td>\n      <td>Mat 2a, Adam Mat, Sala nr 2</td>\n      <td>Mat 2a, None, Sala nr None</td>\n    </tr>\n    <tr>\n      <th>1</th>\n      <td>Mat 2a, None, Sala nr 2</td>\n      <td>Mat 2a, Adam Mat, Sala nr 2</td>\n      <td>Pol 2a, Anna Pol, Sala nr None</td>\n      <td>None</td>\n      <td>Mat 2a, Adam Mat, Sala nr 2</td>\n    </tr>\n    <tr>\n      <th>2</th>\n      <td>Pol 2a, None, Sala nr None</td>\n      <td>Rel 2a, Jerzy Rel, Sala nr 3</td>\n      <td>None</td>\n      <td>None</td>\n      <td>Pol 2a, Anna Pol, Sala nr 1</td>\n    </tr>\n    <tr>\n      <th>3</th>\n      <td>Pol 2a, None, Sala nr None</td>\n      <td>Pol 2a, None, Sala nr None</td>\n      <td>None</td>\n      <td>None</td>\n      <td>Pol 2a, Anna Pol, Sala nr 1</td>\n    </tr>\n    <tr>\n      <th>4</th>\n      <td>Pol 2a, Anna Pol, Sala nr None</td>\n      <td>Ang 2a, Ewa Ang, Sala nr 4</td>\n      <td>None</td>\n      <td>None</td>\n      <td>Ang 2a, None, Sala nr 4</td>\n    </tr>\n    <tr>\n      <th>5</th>\n      <td>Pol 2a, Anna Pol, Sala nr 1</td>\n      <td>None</td>\n      <td>None</td>\n      <td>None</td>\n      <td>Mat 2a, Adam Mat, Sala nr 2</td>\n    </tr>\n  </tbody>\n</table>\n</div>"
     },
     "execution_count": 54,
     "metadata": {},
     "output_type": "execute_result"
    }
   ],
   "source": [
    "t[2]"
   ],
   "metadata": {
    "collapsed": false,
    "pycharm": {
     "name": "#%%\n"
    }
   }
  },
  {
   "cell_type": "code",
   "execution_count": 55,
   "outputs": [
    {
     "data": {
      "text/plain": "                            Day 1                            Day 2  \\\n0  Mat 2b, Adam Mat, Sala nr None       Ang 2b, Ewa Ang, Sala nr 4   \n1      Pol 2b, None, Sala nr None       Ang 2b, Ewa Ang, Sala nr 3   \n2      Pol 2b, None, Sala nr None      Pol 2b, Anna Pol, Sala nr 1   \n3      Pol 2b, None, Sala nr None      Mat 2b, Adam Mat, Sala nr 2   \n4      Mat 2b, None, Sala nr None  Rel 2b, Jerzy Rel, Sala nr None   \n5     Mat 2b, Adam Mat, Sala nr 2      Mat 2b, Adam Mat, Sala nr 2   \n\n                        Day 3                           Day 4  \\\n0  Mat 2b, None, Sala nr None                            None   \n1                        None  Pol 2b, Anna Pol, Sala nr None   \n2                        None                            None   \n3                        None                            None   \n4                        None                            None   \n5                        None                            None   \n\n                            Day 5  \n0      Pol 2b, None, Sala nr None  \n1  Pol 2b, Anna Pol, Sala nr None  \n2      Pol 2b, None, Sala nr None  \n3      Mat 2b, None, Sala nr None  \n4  Mat 2b, Adam Mat, Sala nr None  \n5    Rel 2b, Jerzy Rel, Sala nr 4  ",
      "text/html": "<div>\n<style scoped>\n    .dataframe tbody tr th:only-of-type {\n        vertical-align: middle;\n    }\n\n    .dataframe tbody tr th {\n        vertical-align: top;\n    }\n\n    .dataframe thead th {\n        text-align: right;\n    }\n</style>\n<table border=\"1\" class=\"dataframe\">\n  <thead>\n    <tr style=\"text-align: right;\">\n      <th></th>\n      <th>Day 1</th>\n      <th>Day 2</th>\n      <th>Day 3</th>\n      <th>Day 4</th>\n      <th>Day 5</th>\n    </tr>\n  </thead>\n  <tbody>\n    <tr>\n      <th>0</th>\n      <td>Mat 2b, Adam Mat, Sala nr None</td>\n      <td>Ang 2b, Ewa Ang, Sala nr 4</td>\n      <td>Mat 2b, None, Sala nr None</td>\n      <td>None</td>\n      <td>Pol 2b, None, Sala nr None</td>\n    </tr>\n    <tr>\n      <th>1</th>\n      <td>Pol 2b, None, Sala nr None</td>\n      <td>Ang 2b, Ewa Ang, Sala nr 3</td>\n      <td>None</td>\n      <td>Pol 2b, Anna Pol, Sala nr None</td>\n      <td>Pol 2b, Anna Pol, Sala nr None</td>\n    </tr>\n    <tr>\n      <th>2</th>\n      <td>Pol 2b, None, Sala nr None</td>\n      <td>Pol 2b, Anna Pol, Sala nr 1</td>\n      <td>None</td>\n      <td>None</td>\n      <td>Pol 2b, None, Sala nr None</td>\n    </tr>\n    <tr>\n      <th>3</th>\n      <td>Pol 2b, None, Sala nr None</td>\n      <td>Mat 2b, Adam Mat, Sala nr 2</td>\n      <td>None</td>\n      <td>None</td>\n      <td>Mat 2b, None, Sala nr None</td>\n    </tr>\n    <tr>\n      <th>4</th>\n      <td>Mat 2b, None, Sala nr None</td>\n      <td>Rel 2b, Jerzy Rel, Sala nr None</td>\n      <td>None</td>\n      <td>None</td>\n      <td>Mat 2b, Adam Mat, Sala nr None</td>\n    </tr>\n    <tr>\n      <th>5</th>\n      <td>Mat 2b, Adam Mat, Sala nr 2</td>\n      <td>Mat 2b, Adam Mat, Sala nr 2</td>\n      <td>None</td>\n      <td>None</td>\n      <td>Rel 2b, Jerzy Rel, Sala nr 4</td>\n    </tr>\n  </tbody>\n</table>\n</div>"
     },
     "execution_count": 55,
     "metadata": {},
     "output_type": "execute_result"
    }
   ],
   "source": [
    "t[3]"
   ],
   "metadata": {
    "collapsed": false,
    "pycharm": {
     "name": "#%%\n"
    }
   }
  },
  {
   "cell_type": "code",
   "execution_count": 56,
   "outputs": [
    {
     "data": {
      "text/plain": "<Figure size 432x288 with 1 Axes>",
      "image/png": "[encoded data removed]"
     },
     "metadata": {
      "needs_background": "light"
     },
     "output_type": "display_data"
    }
   ],
   "source": [
    "# plt.plot(obj_fun)\n",
    "plt.plot(obj_fun_curr)\n",
    "plt.plot(obj_end)\n",
    "plt.grid()\n",
    "plt.title(\"Funkcja celu\")\n",
    "plt.legend([\"New\", \"End\"])\n",
    "plt.show()"
   ],
   "metadata": {
    "collapsed": false,
    "pycharm": {
     "name": "#%%\n"
    }
   }
  }
 ],
 "metadata": {
  "kernelspec": {
   "display_name": "Python 3",
   "language": "python",
   "name": "python3"
  },
  "language_info": {
   "codemirror_mode": {
    "name": "ipython",
    "version": 2
   },
   "file_extension": ".py",
   "mimetype": "text/x-python",
   "name": "python",
   "nbconvert_exporter": "python",
   "pygments_lexer": "ipython2",
   "version": "2.7.6"
  }
 },
 "nbformat": 4,
 "nbformat_minor": 0
}